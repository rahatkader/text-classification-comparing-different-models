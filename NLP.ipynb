{
  "nbformat": 4,
  "nbformat_minor": 0,
  "metadata": {
    "colab": {
      "name": "NLP.ipynb",
      "provenance": [],
      "collapsed_sections": [
        "VhBz0-KOPp_B",
        "8ICg-sFSP5K4",
        "2MsD72eKFJlj",
        "m-q5_hfqb4In",
        "hxDGqCFeAVfa",
        "XjyQ85sPcLk-"
      ],
      "mount_file_id": "1mmVnOYKsirdwnVLCAoo0b6M0VWD1wIM5",
      "authorship_tag": "ABX9TyOvmXzCuBoBwIQhFGWL2S9F",
      "include_colab_link": true
    },
    "kernelspec": {
      "name": "python3",
      "display_name": "Python 3"
    },
    "language_info": {
      "name": "python"
    },
    "accelerator": "GPU"
  },
  "cells": [
    {
      "cell_type": "markdown",
      "metadata": {
        "id": "view-in-github",
        "colab_type": "text"
      },
      "source": [
        "<a href=\"https://colab.research.google.com/github/rahatkader/text-classification-comparing-different-models/blob/main/NLP.ipynb\" target=\"_parent\"><img src=\"https://colab.research.google.com/assets/colab-badge.svg\" alt=\"Open In Colab\"/></a>"
      ]
    },
    {
      "cell_type": "markdown",
      "source": [
        "# **Library File Import & Dataset Loading**"
      ],
      "metadata": {
        "id": "VhBz0-KOPp_B"
      }
    },
    {
      "cell_type": "code",
      "execution_count": null,
      "metadata": {
        "id": "dpnkh30G-nck"
      },
      "outputs": [],
      "source": [
        "import pandas as pd\n",
        "import matplotlib.pyplot as plt\n",
        "import seaborn as sns\n",
        "import numpy as np\n",
        "from sklearn.metrics import accuracy_score, confusion_matrix, precision_score, recall_score\n",
        "import torch.nn.functional as F"
      ]
    },
    {
      "cell_type": "code",
      "source": [
        "import torch\n",
        "import torch.nn as nn\n",
        "import torch.optim as optim\n",
        "from torch.utils.data import DataLoader, Dataset\n",
        "\n",
        "from sklearn.feature_extraction.text import CountVectorizer\n",
        "from sklearn.feature_extraction.text import TfidfVectorizer\n",
        "#from sklearn.preprocessing import OneHotEncoder"
      ],
      "metadata": {
        "id": "_lYthn79Ysi2"
      },
      "execution_count": null,
      "outputs": []
    },
    {
      "cell_type": "code",
      "source": [
        "df = pd.read_csv(\"/content/drive/MyDrive/SCL/Assignment 2/Dataset.csv\")\n",
        "df.head(5)"
      ],
      "metadata": {
        "colab": {
          "base_uri": "https://localhost:8080/",
          "height": 206
        },
        "id": "VqCCvGDp-1zT",
        "outputId": "5f3d804d-1b81-4ff5-a366-4cbec65b88ba"
      },
      "execution_count": null,
      "outputs": [
        {
          "output_type": "execute_result",
          "data": {
            "text/html": [
              "\n",
              "  <div id=\"df-532c520f-50e3-4999-b19f-474e605e9445\">\n",
              "    <div class=\"colab-df-container\">\n",
              "      <div>\n",
              "<style scoped>\n",
              "    .dataframe tbody tr th:only-of-type {\n",
              "        vertical-align: middle;\n",
              "    }\n",
              "\n",
              "    .dataframe tbody tr th {\n",
              "        vertical-align: top;\n",
              "    }\n",
              "\n",
              "    .dataframe thead th {\n",
              "        text-align: right;\n",
              "    }\n",
              "</style>\n",
              "<table border=\"1\" class=\"dataframe\">\n",
              "  <thead>\n",
              "    <tr style=\"text-align: right;\">\n",
              "      <th></th>\n",
              "      <th>Text</th>\n",
              "      <th>Sentiment</th>\n",
              "    </tr>\n",
              "  </thead>\n",
              "  <tbody>\n",
              "    <tr>\n",
              "      <th>0</th>\n",
              "      <td>Kickers on my watchlist XIDE TIT SOQ PNK CPW B...</td>\n",
              "      <td>1</td>\n",
              "    </tr>\n",
              "    <tr>\n",
              "      <th>1</th>\n",
              "      <td>user: AAP MOVIE. 55% return for the FEA/GEED i...</td>\n",
              "      <td>1</td>\n",
              "    </tr>\n",
              "    <tr>\n",
              "      <th>2</th>\n",
              "      <td>user I'd be afraid to short AMZN - they are lo...</td>\n",
              "      <td>1</td>\n",
              "    </tr>\n",
              "    <tr>\n",
              "      <th>3</th>\n",
              "      <td>MNTA Over 12.00</td>\n",
              "      <td>1</td>\n",
              "    </tr>\n",
              "    <tr>\n",
              "      <th>4</th>\n",
              "      <td>OI  Over 21.37</td>\n",
              "      <td>1</td>\n",
              "    </tr>\n",
              "  </tbody>\n",
              "</table>\n",
              "</div>\n",
              "      <button class=\"colab-df-convert\" onclick=\"convertToInteractive('df-532c520f-50e3-4999-b19f-474e605e9445')\"\n",
              "              title=\"Convert this dataframe to an interactive table.\"\n",
              "              style=\"display:none;\">\n",
              "        \n",
              "  <svg xmlns=\"http://www.w3.org/2000/svg\" height=\"24px\"viewBox=\"0 0 24 24\"\n",
              "       width=\"24px\">\n",
              "    <path d=\"M0 0h24v24H0V0z\" fill=\"none\"/>\n",
              "    <path d=\"M18.56 5.44l.94 2.06.94-2.06 2.06-.94-2.06-.94-.94-2.06-.94 2.06-2.06.94zm-11 1L8.5 8.5l.94-2.06 2.06-.94-2.06-.94L8.5 2.5l-.94 2.06-2.06.94zm10 10l.94 2.06.94-2.06 2.06-.94-2.06-.94-.94-2.06-.94 2.06-2.06.94z\"/><path d=\"M17.41 7.96l-1.37-1.37c-.4-.4-.92-.59-1.43-.59-.52 0-1.04.2-1.43.59L10.3 9.45l-7.72 7.72c-.78.78-.78 2.05 0 2.83L4 21.41c.39.39.9.59 1.41.59.51 0 1.02-.2 1.41-.59l7.78-7.78 2.81-2.81c.8-.78.8-2.07 0-2.86zM5.41 20L4 18.59l7.72-7.72 1.47 1.35L5.41 20z\"/>\n",
              "  </svg>\n",
              "      </button>\n",
              "      \n",
              "  <style>\n",
              "    .colab-df-container {\n",
              "      display:flex;\n",
              "      flex-wrap:wrap;\n",
              "      gap: 12px;\n",
              "    }\n",
              "\n",
              "    .colab-df-convert {\n",
              "      background-color: #E8F0FE;\n",
              "      border: none;\n",
              "      border-radius: 50%;\n",
              "      cursor: pointer;\n",
              "      display: none;\n",
              "      fill: #1967D2;\n",
              "      height: 32px;\n",
              "      padding: 0 0 0 0;\n",
              "      width: 32px;\n",
              "    }\n",
              "\n",
              "    .colab-df-convert:hover {\n",
              "      background-color: #E2EBFA;\n",
              "      box-shadow: 0px 1px 2px rgba(60, 64, 67, 0.3), 0px 1px 3px 1px rgba(60, 64, 67, 0.15);\n",
              "      fill: #174EA6;\n",
              "    }\n",
              "\n",
              "    [theme=dark] .colab-df-convert {\n",
              "      background-color: #3B4455;\n",
              "      fill: #D2E3FC;\n",
              "    }\n",
              "\n",
              "    [theme=dark] .colab-df-convert:hover {\n",
              "      background-color: #434B5C;\n",
              "      box-shadow: 0px 1px 3px 1px rgba(0, 0, 0, 0.15);\n",
              "      filter: drop-shadow(0px 1px 2px rgba(0, 0, 0, 0.3));\n",
              "      fill: #FFFFFF;\n",
              "    }\n",
              "  </style>\n",
              "\n",
              "      <script>\n",
              "        const buttonEl =\n",
              "          document.querySelector('#df-532c520f-50e3-4999-b19f-474e605e9445 button.colab-df-convert');\n",
              "        buttonEl.style.display =\n",
              "          google.colab.kernel.accessAllowed ? 'block' : 'none';\n",
              "\n",
              "        async function convertToInteractive(key) {\n",
              "          const element = document.querySelector('#df-532c520f-50e3-4999-b19f-474e605e9445');\n",
              "          const dataTable =\n",
              "            await google.colab.kernel.invokeFunction('convertToInteractive',\n",
              "                                                     [key], {});\n",
              "          if (!dataTable) return;\n",
              "\n",
              "          const docLinkHtml = 'Like what you see? Visit the ' +\n",
              "            '<a target=\"_blank\" href=https://colab.research.google.com/notebooks/data_table.ipynb>data table notebook</a>'\n",
              "            + ' to learn more about interactive tables.';\n",
              "          element.innerHTML = '';\n",
              "          dataTable['output_type'] = 'display_data';\n",
              "          await google.colab.output.renderOutput(dataTable, element);\n",
              "          const docLink = document.createElement('div');\n",
              "          docLink.innerHTML = docLinkHtml;\n",
              "          element.appendChild(docLink);\n",
              "        }\n",
              "      </script>\n",
              "    </div>\n",
              "  </div>\n",
              "  "
            ],
            "text/plain": [
              "                                                Text  Sentiment\n",
              "0  Kickers on my watchlist XIDE TIT SOQ PNK CPW B...          1\n",
              "1  user: AAP MOVIE. 55% return for the FEA/GEED i...          1\n",
              "2  user I'd be afraid to short AMZN - they are lo...          1\n",
              "3                                  MNTA Over 12.00            1\n",
              "4                                   OI  Over 21.37            1"
            ]
          },
          "metadata": {},
          "execution_count": 3
        }
      ]
    },
    {
      "cell_type": "markdown",
      "source": [
        "# **Dataset Exploration & Visualisation**"
      ],
      "metadata": {
        "id": "8ICg-sFSP5K4"
      }
    },
    {
      "cell_type": "code",
      "source": [
        "df.info()"
      ],
      "metadata": {
        "colab": {
          "base_uri": "https://localhost:8080/"
        },
        "id": "f8s4XCuw_p5M",
        "outputId": "5a915577-3dac-4cf1-c313-b875eb69068f"
      },
      "execution_count": null,
      "outputs": [
        {
          "output_type": "stream",
          "name": "stdout",
          "text": [
            "<class 'pandas.core.frame.DataFrame'>\n",
            "RangeIndex: 5791 entries, 0 to 5790\n",
            "Data columns (total 2 columns):\n",
            " #   Column     Non-Null Count  Dtype \n",
            "---  ------     --------------  ----- \n",
            " 0   Text       5791 non-null   object\n",
            " 1   Sentiment  5791 non-null   int64 \n",
            "dtypes: int64(1), object(1)\n",
            "memory usage: 90.6+ KB\n"
          ]
        }
      ]
    },
    {
      "cell_type": "code",
      "source": [
        "df.describe()"
      ],
      "metadata": {
        "colab": {
          "base_uri": "https://localhost:8080/",
          "height": 300
        },
        "id": "AcuuH22r_1-V",
        "outputId": "a3f19ac1-2563-4c6f-d0f1-ba5e7930542f"
      },
      "execution_count": null,
      "outputs": [
        {
          "output_type": "execute_result",
          "data": {
            "text/html": [
              "\n",
              "  <div id=\"df-9758b71d-ef67-4fa4-9212-630ec3e94638\">\n",
              "    <div class=\"colab-df-container\">\n",
              "      <div>\n",
              "<style scoped>\n",
              "    .dataframe tbody tr th:only-of-type {\n",
              "        vertical-align: middle;\n",
              "    }\n",
              "\n",
              "    .dataframe tbody tr th {\n",
              "        vertical-align: top;\n",
              "    }\n",
              "\n",
              "    .dataframe thead th {\n",
              "        text-align: right;\n",
              "    }\n",
              "</style>\n",
              "<table border=\"1\" class=\"dataframe\">\n",
              "  <thead>\n",
              "    <tr style=\"text-align: right;\">\n",
              "      <th></th>\n",
              "      <th>Sentiment</th>\n",
              "    </tr>\n",
              "  </thead>\n",
              "  <tbody>\n",
              "    <tr>\n",
              "      <th>count</th>\n",
              "      <td>5791.000000</td>\n",
              "    </tr>\n",
              "    <tr>\n",
              "      <th>mean</th>\n",
              "      <td>0.272664</td>\n",
              "    </tr>\n",
              "    <tr>\n",
              "      <th>std</th>\n",
              "      <td>0.962192</td>\n",
              "    </tr>\n",
              "    <tr>\n",
              "      <th>min</th>\n",
              "      <td>-1.000000</td>\n",
              "    </tr>\n",
              "    <tr>\n",
              "      <th>25%</th>\n",
              "      <td>-1.000000</td>\n",
              "    </tr>\n",
              "    <tr>\n",
              "      <th>50%</th>\n",
              "      <td>1.000000</td>\n",
              "    </tr>\n",
              "    <tr>\n",
              "      <th>75%</th>\n",
              "      <td>1.000000</td>\n",
              "    </tr>\n",
              "    <tr>\n",
              "      <th>max</th>\n",
              "      <td>1.000000</td>\n",
              "    </tr>\n",
              "  </tbody>\n",
              "</table>\n",
              "</div>\n",
              "      <button class=\"colab-df-convert\" onclick=\"convertToInteractive('df-9758b71d-ef67-4fa4-9212-630ec3e94638')\"\n",
              "              title=\"Convert this dataframe to an interactive table.\"\n",
              "              style=\"display:none;\">\n",
              "        \n",
              "  <svg xmlns=\"http://www.w3.org/2000/svg\" height=\"24px\"viewBox=\"0 0 24 24\"\n",
              "       width=\"24px\">\n",
              "    <path d=\"M0 0h24v24H0V0z\" fill=\"none\"/>\n",
              "    <path d=\"M18.56 5.44l.94 2.06.94-2.06 2.06-.94-2.06-.94-.94-2.06-.94 2.06-2.06.94zm-11 1L8.5 8.5l.94-2.06 2.06-.94-2.06-.94L8.5 2.5l-.94 2.06-2.06.94zm10 10l.94 2.06.94-2.06 2.06-.94-2.06-.94-.94-2.06-.94 2.06-2.06.94z\"/><path d=\"M17.41 7.96l-1.37-1.37c-.4-.4-.92-.59-1.43-.59-.52 0-1.04.2-1.43.59L10.3 9.45l-7.72 7.72c-.78.78-.78 2.05 0 2.83L4 21.41c.39.39.9.59 1.41.59.51 0 1.02-.2 1.41-.59l7.78-7.78 2.81-2.81c.8-.78.8-2.07 0-2.86zM5.41 20L4 18.59l7.72-7.72 1.47 1.35L5.41 20z\"/>\n",
              "  </svg>\n",
              "      </button>\n",
              "      \n",
              "  <style>\n",
              "    .colab-df-container {\n",
              "      display:flex;\n",
              "      flex-wrap:wrap;\n",
              "      gap: 12px;\n",
              "    }\n",
              "\n",
              "    .colab-df-convert {\n",
              "      background-color: #E8F0FE;\n",
              "      border: none;\n",
              "      border-radius: 50%;\n",
              "      cursor: pointer;\n",
              "      display: none;\n",
              "      fill: #1967D2;\n",
              "      height: 32px;\n",
              "      padding: 0 0 0 0;\n",
              "      width: 32px;\n",
              "    }\n",
              "\n",
              "    .colab-df-convert:hover {\n",
              "      background-color: #E2EBFA;\n",
              "      box-shadow: 0px 1px 2px rgba(60, 64, 67, 0.3), 0px 1px 3px 1px rgba(60, 64, 67, 0.15);\n",
              "      fill: #174EA6;\n",
              "    }\n",
              "\n",
              "    [theme=dark] .colab-df-convert {\n",
              "      background-color: #3B4455;\n",
              "      fill: #D2E3FC;\n",
              "    }\n",
              "\n",
              "    [theme=dark] .colab-df-convert:hover {\n",
              "      background-color: #434B5C;\n",
              "      box-shadow: 0px 1px 3px 1px rgba(0, 0, 0, 0.15);\n",
              "      filter: drop-shadow(0px 1px 2px rgba(0, 0, 0, 0.3));\n",
              "      fill: #FFFFFF;\n",
              "    }\n",
              "  </style>\n",
              "\n",
              "      <script>\n",
              "        const buttonEl =\n",
              "          document.querySelector('#df-9758b71d-ef67-4fa4-9212-630ec3e94638 button.colab-df-convert');\n",
              "        buttonEl.style.display =\n",
              "          google.colab.kernel.accessAllowed ? 'block' : 'none';\n",
              "\n",
              "        async function convertToInteractive(key) {\n",
              "          const element = document.querySelector('#df-9758b71d-ef67-4fa4-9212-630ec3e94638');\n",
              "          const dataTable =\n",
              "            await google.colab.kernel.invokeFunction('convertToInteractive',\n",
              "                                                     [key], {});\n",
              "          if (!dataTable) return;\n",
              "\n",
              "          const docLinkHtml = 'Like what you see? Visit the ' +\n",
              "            '<a target=\"_blank\" href=https://colab.research.google.com/notebooks/data_table.ipynb>data table notebook</a>'\n",
              "            + ' to learn more about interactive tables.';\n",
              "          element.innerHTML = '';\n",
              "          dataTable['output_type'] = 'display_data';\n",
              "          await google.colab.output.renderOutput(dataTable, element);\n",
              "          const docLink = document.createElement('div');\n",
              "          docLink.innerHTML = docLinkHtml;\n",
              "          element.appendChild(docLink);\n",
              "        }\n",
              "      </script>\n",
              "    </div>\n",
              "  </div>\n",
              "  "
            ],
            "text/plain": [
              "         Sentiment\n",
              "count  5791.000000\n",
              "mean      0.272664\n",
              "std       0.962192\n",
              "min      -1.000000\n",
              "25%      -1.000000\n",
              "50%       1.000000\n",
              "75%       1.000000\n",
              "max       1.000000"
            ]
          },
          "metadata": {},
          "execution_count": 5
        }
      ]
    },
    {
      "cell_type": "markdown",
      "source": [
        "\n",
        "\n",
        "---\n",
        "\n",
        "\n",
        "**Records in each class**"
      ],
      "metadata": {
        "id": "33aDd93dHsfy"
      }
    },
    {
      "cell_type": "code",
      "source": [
        "def plot_stats(df, column, ax, color, angle):\n",
        "  count_classes = df[column].value_counts()\n",
        "  ax = sns.barplot(x=count_classes.index, y=count_classes, ax=ax, palette=color)\n",
        "  ax.set_title(column.upper(), fontsize=18)\n",
        "  for tick in ax.get_xticklabels():\n",
        "    tick.set_rotation(angle)"
      ],
      "metadata": {
        "id": "g2Zq-8Ip_A9q"
      },
      "execution_count": null,
      "outputs": []
    },
    {
      "cell_type": "code",
      "source": [
        "fig, axes = plt.subplots(nrows=1, ncols=1, figsize=(15,5))\n",
        "fig.autofmt_xdate()\n",
        "plot_stats(df, \"Sentiment\", axes, \"Blues\", 0)\n",
        "plt.show()"
      ],
      "metadata": {
        "colab": {
          "base_uri": "https://localhost:8080/",
          "height": 313
        },
        "id": "5S0JFq9I_VsY",
        "outputId": "7ba7df65-fe2d-425d-c0f0-014dd82427ac"
      },
      "execution_count": null,
      "outputs": [
        {
          "output_type": "display_data",
          "data": {
            "image/png": "[encoded data removed]",
            "text/plain": [
              "<Figure size 1080x360 with 1 Axes>"
            ]
          },
          "metadata": {
            "needs_background": "light"
          }
        }
      ]
    },
    {
      "cell_type": "markdown",
      "source": [
        "\n",
        "\n",
        "---\n",
        "\n",
        "\n",
        "**The number of characters in each class**"
      ],
      "metadata": {
        "id": "W8Xxh2dHHtUS"
      }
    },
    {
      "cell_type": "code",
      "source": [
        "def number_of_characters(df, label, ax, color):\n",
        "    tweet_len = df[df['Sentiment']==label]['Text'].str.len()\n",
        "    ax.hist(tweet_len, color=color)\n",
        "    ax.set_title(label, fontsize=18)"
      ],
      "metadata": {
        "id": "M0fap7vRPmPQ"
      },
      "execution_count": null,
      "outputs": []
    },
    {
      "cell_type": "code",
      "source": [
        "fig, axes = plt.subplots(nrows=1, ncols=2, figsize=(25,7))\n",
        "fig.autofmt_xdate()\n",
        "fig.suptitle('NUMBER OF CHARACTERS IN EACH CLASS', fontsize=20)\n",
        "number_of_characters(df, -1, axes[0], '#1483d9')\n",
        "number_of_characters(df, 1, axes[1], '#1417d9')\n",
        "plt.show()"
      ],
      "metadata": {
        "id": "1evJq0F8PmIQ",
        "colab": {
          "base_uri": "https://localhost:8080/",
          "height": 449
        },
        "outputId": "6026d65e-756e-4e3a-b4a2-85d97ef9ebb8"
      },
      "execution_count": null,
      "outputs": [
        {
          "output_type": "display_data",
          "data": {
            "image/png": "[encoded data removed]",
            "text/plain": [
              "<Figure size 1800x504 with 2 Axes>"
            ]
          },
          "metadata": {
            "needs_background": "light"
          }
        }
      ]
    },
    {
      "cell_type": "markdown",
      "source": [
        "\n",
        "\n",
        "---\n",
        "\n",
        "\n",
        "**Average word length**"
      ],
      "metadata": {
        "id": "RmQlunYzJQ-j"
      }
    },
    {
      "cell_type": "code",
      "source": [
        "def avg_word_length(df, label, ax, color):\n",
        "    word = df[df['Sentiment']==label]['Text'].str.split().apply(lambda x : [len(i) for i in x])\n",
        "    sns.distplot(word.map(lambda x: np.mean(x)), ax=ax, color=color)"
      ],
      "metadata": {
        "id": "Q4m4k7pXJUii"
      },
      "execution_count": null,
      "outputs": []
    },
    {
      "cell_type": "code",
      "source": [
        "fig, axes = plt.subplots(nrows=1, ncols=2, figsize=(30,7))\n",
        "fig.autofmt_xdate()\n",
        "fig.suptitle('THE AVERAGE WORD LENGTH IN EACH CLASS', fontsize=20)\n",
        "avg_word_length(df, -1, axes[0], '#1483d9')\n",
        "avg_word_length(df, 1, axes[1], '#1417d9')\n",
        "plt.show()"
      ],
      "metadata": {
        "colab": {
          "base_uri": "https://localhost:8080/",
          "height": 491
        },
        "id": "lJe3TJFSJZGB",
        "outputId": "fffe22b3-134c-4d91-bd56-7c8a688acb05"
      },
      "execution_count": null,
      "outputs": [
        {
          "output_type": "stream",
          "name": "stderr",
          "text": [
            "/usr/local/lib/python3.7/dist-packages/seaborn/distributions.py:2619: FutureWarning: `distplot` is a deprecated function and will be removed in a future version. Please adapt your code to use either `displot` (a figure-level function with similar flexibility) or `histplot` (an axes-level function for histograms).\n",
            "  warnings.warn(msg, FutureWarning)\n",
            "/usr/local/lib/python3.7/dist-packages/seaborn/distributions.py:2619: FutureWarning: `distplot` is a deprecated function and will be removed in a future version. Please adapt your code to use either `displot` (a figure-level function with similar flexibility) or `histplot` (an axes-level function for histograms).\n",
            "  warnings.warn(msg, FutureWarning)\n"
          ]
        },
        {
          "output_type": "display_data",
          "data": {
            "image/png": "[encoded data removed]",
            "text/plain": [
              "<Figure size 2160x504 with 2 Axes>"
            ]
          },
          "metadata": {
            "needs_background": "light"
          }
        }
      ]
    },
    {
      "cell_type": "markdown",
      "source": [
        "# **Pre-Processing Steps**"
      ],
      "metadata": {
        "id": "2MsD72eKFJlj"
      }
    },
    {
      "cell_type": "markdown",
      "source": [
        "\n",
        "\n",
        "---\n",
        "\n",
        "\n",
        "**Stop word removal**"
      ],
      "metadata": {
        "id": "IvRYJXvRE_sb"
      }
    },
    {
      "cell_type": "code",
      "source": [
        "import nltk\n",
        "nltk.download(\"stopwords\")\n",
        "\n",
        "from nltk.corpus import stopwords\n",
        "\", \".join(stopwords.words('english'))\n",
        "\n",
        "STOPWORDS = set(stopwords.words('english'))\n",
        "def remove_stopwords(text):\n",
        "    \"\"\"custom function to remove the stopwords\"\"\"\n",
        "    return \" \".join([word for word in str(text).split() if word not in STOPWORDS])\n",
        "\n",
        "df[\"Text\"] = df[\"Text\"].apply(lambda text: remove_stopwords(text))\n",
        "df.head()"
      ],
      "metadata": {
        "colab": {
          "base_uri": "https://localhost:8080/",
          "height": 241
        },
        "id": "W-q1j6RUC50r",
        "outputId": "acc6fd68-e3e6-4e17-dca3-09af07dcb425"
      },
      "execution_count": null,
      "outputs": [
        {
          "output_type": "stream",
          "name": "stdout",
          "text": [
            "[nltk_data] Downloading package stopwords to /root/nltk_data...\n",
            "[nltk_data]   Unzipping corpora/stopwords.zip.\n"
          ]
        },
        {
          "output_type": "execute_result",
          "data": {
            "text/html": [
              "\n",
              "  <div id=\"df-6674a648-45d0-414b-8a5f-b0381368c2a9\">\n",
              "    <div class=\"colab-df-container\">\n",
              "      <div>\n",
              "<style scoped>\n",
              "    .dataframe tbody tr th:only-of-type {\n",
              "        vertical-align: middle;\n",
              "    }\n",
              "\n",
              "    .dataframe tbody tr th {\n",
              "        vertical-align: top;\n",
              "    }\n",
              "\n",
              "    .dataframe thead th {\n",
              "        text-align: right;\n",
              "    }\n",
              "</style>\n",
              "<table border=\"1\" class=\"dataframe\">\n",
              "  <thead>\n",
              "    <tr style=\"text-align: right;\">\n",
              "      <th></th>\n",
              "      <th>Text</th>\n",
              "      <th>Sentiment</th>\n",
              "    </tr>\n",
              "  </thead>\n",
              "  <tbody>\n",
              "    <tr>\n",
              "      <th>0</th>\n",
              "      <td>Kickers watchlist XIDE TIT SOQ PNK CPW BPZ AJ ...</td>\n",
              "      <td>1</td>\n",
              "    </tr>\n",
              "    <tr>\n",
              "      <th>1</th>\n",
              "      <td>user: AAP MOVIE. 55% return FEA/GEED indicator...</td>\n",
              "      <td>1</td>\n",
              "    </tr>\n",
              "    <tr>\n",
              "      <th>2</th>\n",
              "      <td>user I'd afraid short AMZN - looking like near...</td>\n",
              "      <td>1</td>\n",
              "    </tr>\n",
              "    <tr>\n",
              "      <th>3</th>\n",
              "      <td>MNTA Over 12.00</td>\n",
              "      <td>1</td>\n",
              "    </tr>\n",
              "    <tr>\n",
              "      <th>4</th>\n",
              "      <td>OI Over 21.37</td>\n",
              "      <td>1</td>\n",
              "    </tr>\n",
              "  </tbody>\n",
              "</table>\n",
              "</div>\n",
              "      <button class=\"colab-df-convert\" onclick=\"convertToInteractive('df-6674a648-45d0-414b-8a5f-b0381368c2a9')\"\n",
              "              title=\"Convert this dataframe to an interactive table.\"\n",
              "              style=\"display:none;\">\n",
              "        \n",
              "  <svg xmlns=\"http://www.w3.org/2000/svg\" height=\"24px\"viewBox=\"0 0 24 24\"\n",
              "       width=\"24px\">\n",
              "    <path d=\"M0 0h24v24H0V0z\" fill=\"none\"/>\n",
              "    <path d=\"M18.56 5.44l.94 2.06.94-2.06 2.06-.94-2.06-.94-.94-2.06-.94 2.06-2.06.94zm-11 1L8.5 8.5l.94-2.06 2.06-.94-2.06-.94L8.5 2.5l-.94 2.06-2.06.94zm10 10l.94 2.06.94-2.06 2.06-.94-2.06-.94-.94-2.06-.94 2.06-2.06.94z\"/><path d=\"M17.41 7.96l-1.37-1.37c-.4-.4-.92-.59-1.43-.59-.52 0-1.04.2-1.43.59L10.3 9.45l-7.72 7.72c-.78.78-.78 2.05 0 2.83L4 21.41c.39.39.9.59 1.41.59.51 0 1.02-.2 1.41-.59l7.78-7.78 2.81-2.81c.8-.78.8-2.07 0-2.86zM5.41 20L4 18.59l7.72-7.72 1.47 1.35L5.41 20z\"/>\n",
              "  </svg>\n",
              "      </button>\n",
              "      \n",
              "  <style>\n",
              "    .colab-df-container {\n",
              "      display:flex;\n",
              "      flex-wrap:wrap;\n",
              "      gap: 12px;\n",
              "    }\n",
              "\n",
              "    .colab-df-convert {\n",
              "      background-color: #E8F0FE;\n",
              "      border: none;\n",
              "      border-radius: 50%;\n",
              "      cursor: pointer;\n",
              "      display: none;\n",
              "      fill: #1967D2;\n",
              "      height: 32px;\n",
              "      padding: 0 0 0 0;\n",
              "      width: 32px;\n",
              "    }\n",
              "\n",
              "    .colab-df-convert:hover {\n",
              "      background-color: #E2EBFA;\n",
              "      box-shadow: 0px 1px 2px rgba(60, 64, 67, 0.3), 0px 1px 3px 1px rgba(60, 64, 67, 0.15);\n",
              "      fill: #174EA6;\n",
              "    }\n",
              "\n",
              "    [theme=dark] .colab-df-convert {\n",
              "      background-color: #3B4455;\n",
              "      fill: #D2E3FC;\n",
              "    }\n",
              "\n",
              "    [theme=dark] .colab-df-convert:hover {\n",
              "      background-color: #434B5C;\n",
              "      box-shadow: 0px 1px 3px 1px rgba(0, 0, 0, 0.15);\n",
              "      filter: drop-shadow(0px 1px 2px rgba(0, 0, 0, 0.3));\n",
              "      fill: #FFFFFF;\n",
              "    }\n",
              "  </style>\n",
              "\n",
              "      <script>\n",
              "        const buttonEl =\n",
              "          document.querySelector('#df-6674a648-45d0-414b-8a5f-b0381368c2a9 button.colab-df-convert');\n",
              "        buttonEl.style.display =\n",
              "          google.colab.kernel.accessAllowed ? 'block' : 'none';\n",
              "\n",
              "        async function convertToInteractive(key) {\n",
              "          const element = document.querySelector('#df-6674a648-45d0-414b-8a5f-b0381368c2a9');\n",
              "          const dataTable =\n",
              "            await google.colab.kernel.invokeFunction('convertToInteractive',\n",
              "                                                     [key], {});\n",
              "          if (!dataTable) return;\n",
              "\n",
              "          const docLinkHtml = 'Like what you see? Visit the ' +\n",
              "            '<a target=\"_blank\" href=https://colab.research.google.com/notebooks/data_table.ipynb>data table notebook</a>'\n",
              "            + ' to learn more about interactive tables.';\n",
              "          element.innerHTML = '';\n",
              "          dataTable['output_type'] = 'display_data';\n",
              "          await google.colab.output.renderOutput(dataTable, element);\n",
              "          const docLink = document.createElement('div');\n",
              "          docLink.innerHTML = docLinkHtml;\n",
              "          element.appendChild(docLink);\n",
              "        }\n",
              "      </script>\n",
              "    </div>\n",
              "  </div>\n",
              "  "
            ],
            "text/plain": [
              "                                                Text  Sentiment\n",
              "0  Kickers watchlist XIDE TIT SOQ PNK CPW BPZ AJ ...          1\n",
              "1  user: AAP MOVIE. 55% return FEA/GEED indicator...          1\n",
              "2  user I'd afraid short AMZN - looking like near...          1\n",
              "3                                    MNTA Over 12.00          1\n",
              "4                                      OI Over 21.37          1"
            ]
          },
          "metadata": {},
          "execution_count": 12
        }
      ]
    },
    {
      "cell_type": "markdown",
      "source": [
        "\n",
        "\n",
        "---\n",
        "\n",
        "\n",
        "**Stemming**"
      ],
      "metadata": {
        "id": "gQvgDp_iFeMk"
      }
    },
    {
      "cell_type": "code",
      "source": [
        "from nltk.stem.porter import PorterStemmer\n",
        "\n",
        "stemmer = PorterStemmer()\n",
        "def stem_words(text):\n",
        "    return \" \".join([stemmer.stem(word) for word in text.split()])\n",
        "\n",
        "df[\"Text\"] = df[\"Text\"].apply(lambda text: stem_words(text))\n",
        "df.head()"
      ],
      "metadata": {
        "colab": {
          "base_uri": "https://localhost:8080/",
          "height": 206
        },
        "id": "46Rx4mT6Fe0T",
        "outputId": "405be911-e91e-433f-b879-864f52886ff1"
      },
      "execution_count": null,
      "outputs": [
        {
          "output_type": "execute_result",
          "data": {
            "text/html": [
              "\n",
              "  <div id=\"df-c21aa934-83c5-45c7-b5e8-b7e08690dea0\">\n",
              "    <div class=\"colab-df-container\">\n",
              "      <div>\n",
              "<style scoped>\n",
              "    .dataframe tbody tr th:only-of-type {\n",
              "        vertical-align: middle;\n",
              "    }\n",
              "\n",
              "    .dataframe tbody tr th {\n",
              "        vertical-align: top;\n",
              "    }\n",
              "\n",
              "    .dataframe thead th {\n",
              "        text-align: right;\n",
              "    }\n",
              "</style>\n",
              "<table border=\"1\" class=\"dataframe\">\n",
              "  <thead>\n",
              "    <tr style=\"text-align: right;\">\n",
              "      <th></th>\n",
              "      <th>Text</th>\n",
              "      <th>Sentiment</th>\n",
              "    </tr>\n",
              "  </thead>\n",
              "  <tbody>\n",
              "    <tr>\n",
              "      <th>0</th>\n",
              "      <td>kicker watchlist xide tit soq pnk cpw bpz AJ t...</td>\n",
              "      <td>1</td>\n",
              "    </tr>\n",
              "    <tr>\n",
              "      <th>1</th>\n",
              "      <td>user: aap movie. 55% return fea/ge indic 15 tr...</td>\n",
              "      <td>1</td>\n",
              "    </tr>\n",
              "    <tr>\n",
              "      <th>2</th>\n",
              "      <td>user i'd afraid short amzn - look like near-mo...</td>\n",
              "      <td>1</td>\n",
              "    </tr>\n",
              "    <tr>\n",
              "      <th>3</th>\n",
              "      <td>mnta over 12.00</td>\n",
              "      <td>1</td>\n",
              "    </tr>\n",
              "    <tr>\n",
              "      <th>4</th>\n",
              "      <td>OI over 21.37</td>\n",
              "      <td>1</td>\n",
              "    </tr>\n",
              "  </tbody>\n",
              "</table>\n",
              "</div>\n",
              "      <button class=\"colab-df-convert\" onclick=\"convertToInteractive('df-c21aa934-83c5-45c7-b5e8-b7e08690dea0')\"\n",
              "              title=\"Convert this dataframe to an interactive table.\"\n",
              "              style=\"display:none;\">\n",
              "        \n",
              "  <svg xmlns=\"http://www.w3.org/2000/svg\" height=\"24px\"viewBox=\"0 0 24 24\"\n",
              "       width=\"24px\">\n",
              "    <path d=\"M0 0h24v24H0V0z\" fill=\"none\"/>\n",
              "    <path d=\"M18.56 5.44l.94 2.06.94-2.06 2.06-.94-2.06-.94-.94-2.06-.94 2.06-2.06.94zm-11 1L8.5 8.5l.94-2.06 2.06-.94-2.06-.94L8.5 2.5l-.94 2.06-2.06.94zm10 10l.94 2.06.94-2.06 2.06-.94-2.06-.94-.94-2.06-.94 2.06-2.06.94z\"/><path d=\"M17.41 7.96l-1.37-1.37c-.4-.4-.92-.59-1.43-.59-.52 0-1.04.2-1.43.59L10.3 9.45l-7.72 7.72c-.78.78-.78 2.05 0 2.83L4 21.41c.39.39.9.59 1.41.59.51 0 1.02-.2 1.41-.59l7.78-7.78 2.81-2.81c.8-.78.8-2.07 0-2.86zM5.41 20L4 18.59l7.72-7.72 1.47 1.35L5.41 20z\"/>\n",
              "  </svg>\n",
              "      </button>\n",
              "      \n",
              "  <style>\n",
              "    .colab-df-container {\n",
              "      display:flex;\n",
              "      flex-wrap:wrap;\n",
              "      gap: 12px;\n",
              "    }\n",
              "\n",
              "    .colab-df-convert {\n",
              "      background-color: #E8F0FE;\n",
              "      border: none;\n",
              "      border-radius: 50%;\n",
              "      cursor: pointer;\n",
              "      display: none;\n",
              "      fill: #1967D2;\n",
              "      height: 32px;\n",
              "      padding: 0 0 0 0;\n",
              "      width: 32px;\n",
              "    }\n",
              "\n",
              "    .colab-df-convert:hover {\n",
              "      background-color: #E2EBFA;\n",
              "      box-shadow: 0px 1px 2px rgba(60, 64, 67, 0.3), 0px 1px 3px 1px rgba(60, 64, 67, 0.15);\n",
              "      fill: #174EA6;\n",
              "    }\n",
              "\n",
              "    [theme=dark] .colab-df-convert {\n",
              "      background-color: #3B4455;\n",
              "      fill: #D2E3FC;\n",
              "    }\n",
              "\n",
              "    [theme=dark] .colab-df-convert:hover {\n",
              "      background-color: #434B5C;\n",
              "      box-shadow: 0px 1px 3px 1px rgba(0, 0, 0, 0.15);\n",
              "      filter: drop-shadow(0px 1px 2px rgba(0, 0, 0, 0.3));\n",
              "      fill: #FFFFFF;\n",
              "    }\n",
              "  </style>\n",
              "\n",
              "      <script>\n",
              "        const buttonEl =\n",
              "          document.querySelector('#df-c21aa934-83c5-45c7-b5e8-b7e08690dea0 button.colab-df-convert');\n",
              "        buttonEl.style.display =\n",
              "          google.colab.kernel.accessAllowed ? 'block' : 'none';\n",
              "\n",
              "        async function convertToInteractive(key) {\n",
              "          const element = document.querySelector('#df-c21aa934-83c5-45c7-b5e8-b7e08690dea0');\n",
              "          const dataTable =\n",
              "            await google.colab.kernel.invokeFunction('convertToInteractive',\n",
              "                                                     [key], {});\n",
              "          if (!dataTable) return;\n",
              "\n",
              "          const docLinkHtml = 'Like what you see? Visit the ' +\n",
              "            '<a target=\"_blank\" href=https://colab.research.google.com/notebooks/data_table.ipynb>data table notebook</a>'\n",
              "            + ' to learn more about interactive tables.';\n",
              "          element.innerHTML = '';\n",
              "          dataTable['output_type'] = 'display_data';\n",
              "          await google.colab.output.renderOutput(dataTable, element);\n",
              "          const docLink = document.createElement('div');\n",
              "          docLink.innerHTML = docLinkHtml;\n",
              "          element.appendChild(docLink);\n",
              "        }\n",
              "      </script>\n",
              "    </div>\n",
              "  </div>\n",
              "  "
            ],
            "text/plain": [
              "                                                Text  Sentiment\n",
              "0  kicker watchlist xide tit soq pnk cpw bpz AJ t...          1\n",
              "1  user: aap movie. 55% return fea/ge indic 15 tr...          1\n",
              "2  user i'd afraid short amzn - look like near-mo...          1\n",
              "3                                    mnta over 12.00          1\n",
              "4                                      OI over 21.37          1"
            ]
          },
          "metadata": {},
          "execution_count": 13
        }
      ]
    },
    {
      "cell_type": "code",
      "source": [
        "df_train = df.head(5000)\n",
        "df_test = df.tail(790)"
      ],
      "metadata": {
        "id": "4jDECIP6YfH_"
      },
      "execution_count": null,
      "outputs": []
    },
    {
      "cell_type": "markdown",
      "source": [
        "# **Models**"
      ],
      "metadata": {
        "id": "m-q5_hfqb4In"
      }
    },
    {
      "cell_type": "markdown",
      "source": [
        "\n",
        "\n",
        "---\n",
        "\n",
        "**Neural Network**"
      ],
      "metadata": {
        "id": "jJNJAcdOcCUn"
      }
    },
    {
      "cell_type": "code",
      "source": [
        "class NNClassifier(nn.Module):\n",
        "    def __init__(self, vocab_size, hidden1, hidden2):\n",
        "        super().__init__()\n",
        "\n",
        "        self.linear_1 = nn.Linear(vocab_size, hidden1)\n",
        "        self.linear_2 = nn.Linear(hidden1, hidden1)\n",
        "        self.linear_3 = nn.Linear(hidden1, hidden1)\n",
        "        self.linear_4 = nn.Linear(hidden1, hidden2)\n",
        "        self.linear_out = nn.Linear(hidden2, 1)\n",
        "\n",
        "        self.relu = nn.ReLU()\n",
        "        \n",
        "        \n",
        "    def forward(self, inputs):\n",
        "\n",
        "        out = self.relu(self.linear_1(inputs.squeeze(1).float()))\n",
        "        \n",
        "        out = self.relu(self.linear_2(out))\n",
        "\n",
        "        out = self.relu(self.linear_3(out))\n",
        "\n",
        "        out = self.relu(self.linear_4(out))\n",
        "\n",
        "        logits  = self.linear_out(out)\n",
        "        \n",
        "        return logits"
      ],
      "metadata": {
        "id": "o94IP8Nib-en"
      },
      "execution_count": null,
      "outputs": []
    },
    {
      "cell_type": "markdown",
      "source": [
        "\n",
        "\n",
        "---\n",
        "\n",
        "**Convulution Neural Network(CNN)**"
      ],
      "metadata": {
        "id": "32rz4yQ-hsmP"
      }
    },
    {
      "cell_type": "code",
      "source": [
        "class CNNClassifier(nn.Module):\n",
        "    def __init__(self, input_dim):\n",
        "        super(CNNClassifier, self).__init__()\n",
        "        self.cnn_layer_1 = nn.Conv2d(in_channels=1, out_channels=256,kernel_size=3, stride=1)\n",
        "        self.cnn_layer_2 = nn.Conv2d(in_channels=256, out_channels=32,kernel_size=3, stride=1)\n",
        "        \n",
        "        self.flatten = nn.Flatten()\n",
        "        self.maxpool = nn.MaxPool2d(2)\n",
        "        \n",
        "        self.linear_layer_1 = nn.Linear(32*148*148, 512)  \n",
        "        self.linear_layer_2 = nn.Linear(512, 128) \n",
        "        self.linear_layer_3 = nn.Linear(128, 1)\n",
        "        \n",
        "        self.relu = nn.ReLU()\n",
        "        self.sigmoid = nn.Sigmoid()\n",
        "        self.dropout = nn.Dropout(.2)\n",
        "        # self.flatten = nn.Flatten()\n",
        "        \n",
        "    def forward(self, x):\n",
        "\n",
        "        x = self.cnn_layer_1(x)\n",
        "        x = self.dropout(x)\n",
        "        x = self.relu(x)\n",
        "        x = self.maxpool(x)\n",
        "        \n",
        "        print(x.shape)\n",
        "        \n",
        "        x = self.cnn_layer_2(x)\n",
        "        x = self.dropout(x)\n",
        "        x = self.relu(x)\n",
        "        x = self.maxpool(x)\n",
        "        \n",
        "        print(x.shape)\n",
        "        \n",
        "        x = self.flatten(x)\n",
        "        print(x.shape)\n",
        "        \n",
        "        x = self.linear_layer_1(x)\n",
        "        x = self.dropout(x)\n",
        "        x = self.relu(x)\n",
        "        \n",
        "        x = self.linear_layer_2(x)\n",
        "        x = self.dropout(x)\n",
        "        x = self.relu(x)\n",
        "        \n",
        "        logits = self.linear_layer_3(x)\n",
        "        #logits = self.sigmoid(x)\n",
        "        return logits"
      ],
      "metadata": {
        "id": "EDFEg0onhr0X"
      },
      "execution_count": null,
      "outputs": []
    },
    {
      "cell_type": "markdown",
      "source": [
        "# **BoW and Neural Network**"
      ],
      "metadata": {
        "id": "hxDGqCFeAVfa"
      }
    },
    {
      "cell_type": "code",
      "source": [
        "class Sequences(Dataset):\n",
        "    def __init__(self, data):\n",
        "        self.vectorizer = CountVectorizer(binary=True)\n",
        "        self.sequences = self.vectorizer.fit_transform(data.Text.tolist())\n",
        "        self.labels = data.Sentiment.tolist()\n",
        "        self.token2idx = self.vectorizer.vocabulary_\n",
        "        self.idx2token = {idx: token for token, idx in self.token2idx.items()}\n",
        "    \n",
        "    def __getitem__(self, i):\n",
        "        return self.sequences[i, :].toarray(), self.labels[i]\n",
        "    \n",
        "    def __len__(self):\n",
        "        return self.sequences.shape[0]\n",
        "\n",
        "\n",
        "dataset = Sequences(df_train)\n",
        "train_loader = DataLoader(dataset, batch_size=50)"
      ],
      "metadata": {
        "id": "QWf47hHaAU9y"
      },
      "execution_count": null,
      "outputs": []
    },
    {
      "cell_type": "code",
      "source": [
        "len(dataset.token2idx)"
      ],
      "metadata": {
        "colab": {
          "base_uri": "https://localhost:8080/"
        },
        "id": "9OBkqqAHTfsc",
        "outputId": "36f762f1-1842-492f-c6a1-a7203f8442d9"
      },
      "execution_count": null,
      "outputs": [
        {
          "output_type": "execute_result",
          "data": {
            "text/plain": [
              "7009"
            ]
          },
          "metadata": {},
          "execution_count": 18
        }
      ]
    },
    {
      "cell_type": "code",
      "source": [
        "model = NNClassifier(len(dataset.token2idx), 128, 64)\n",
        "model"
      ],
      "metadata": {
        "colab": {
          "base_uri": "https://localhost:8080/"
        },
        "id": "RyF1BWfMZBOH",
        "outputId": "fab88a3a-f3dd-4ecc-9006-93c41ff30c8e"
      },
      "execution_count": null,
      "outputs": [
        {
          "output_type": "execute_result",
          "data": {
            "text/plain": [
              "NNClassifier(\n",
              "  (linear_1): Linear(in_features=7009, out_features=128, bias=True)\n",
              "  (linear_2): Linear(in_features=128, out_features=128, bias=True)\n",
              "  (linear_3): Linear(in_features=128, out_features=128, bias=True)\n",
              "  (linear_4): Linear(in_features=128, out_features=64, bias=True)\n",
              "  (linear_out): Linear(in_features=64, out_features=1, bias=True)\n",
              "  (relu): ReLU()\n",
              ")"
            ]
          },
          "metadata": {},
          "execution_count": 19
        }
      ]
    },
    {
      "cell_type": "code",
      "source": [
        "criterion = nn.BCEWithLogitsLoss()\n",
        "optimizer = optim.Adam(model.parameters(), lr=0.001)"
      ],
      "metadata": {
        "id": "bhlLOtxWZBLH"
      },
      "execution_count": null,
      "outputs": []
    },
    {
      "cell_type": "code",
      "source": [
        "train_losses = []\n",
        "\n",
        "for epoch in range(100):\n",
        "    losses = []\n",
        "    total = 0\n",
        "    for inputs, target in train_loader:\n",
        "        model.zero_grad()\n",
        "\n",
        "        output = model(inputs)\n",
        "        loss = criterion(output.squeeze(), target.float())\n",
        "        loss.backward()\n",
        "        optimizer.step()\n",
        "        losses.append(loss.item())\n",
        "        total += 1\n",
        "    \n",
        "    epoch_loss = sum(losses) / total\n",
        "    train_losses.append(epoch_loss)\n",
        "        \n",
        "    print(f'Epoch #{epoch + 1}\\tTrain Loss: {epoch_loss:.3f}')"
      ],
      "metadata": {
        "colab": {
          "base_uri": "https://localhost:8080/"
        },
        "id": "08bJBV_BZBGe",
        "outputId": "728fdce2-1c21-4118-9ec5-439d38569dbb"
      },
      "execution_count": null,
      "outputs": [
        {
          "output_type": "stream",
          "name": "stdout",
          "text": [
            "Epoch #1\tTrain Loss: 0.222\n",
            "Epoch #2\tTrain Loss: -359.587\n",
            "Epoch #3\tTrain Loss: -14493.107\n",
            "Epoch #4\tTrain Loss: -152088.835\n",
            "Epoch #5\tTrain Loss: -789324.794\n",
            "Epoch #6\tTrain Loss: -2736006.153\n",
            "Epoch #7\tTrain Loss: -7366694.479\n",
            "Epoch #8\tTrain Loss: -16656714.560\n",
            "Epoch #9\tTrain Loss: -33277896.235\n",
            "Epoch #10\tTrain Loss: -60173334.950\n",
            "Epoch #11\tTrain Loss: -101137027.600\n",
            "Epoch #12\tTrain Loss: -160334635.280\n",
            "Epoch #13\tTrain Loss: -242983770.920\n",
            "Epoch #14\tTrain Loss: -354540964.080\n",
            "Epoch #15\tTrain Loss: -501243914.240\n",
            "Epoch #16\tTrain Loss: -689735024.480\n",
            "Epoch #17\tTrain Loss: -927741027.680\n",
            "Epoch #18\tTrain Loss: -1224299160.000\n",
            "Epoch #19\tTrain Loss: -1586564713.920\n",
            "Epoch #20\tTrain Loss: -2022140891.840\n",
            "Epoch #21\tTrain Loss: -2543329585.280\n",
            "Epoch #22\tTrain Loss: -3157896351.360\n",
            "Epoch #23\tTrain Loss: -3874805866.240\n",
            "Epoch #24\tTrain Loss: -4704685085.440\n",
            "Epoch #25\tTrain Loss: -5655621918.720\n",
            "Epoch #26\tTrain Loss: -6735741181.440\n",
            "Epoch #27\tTrain Loss: -7957533397.760\n",
            "Epoch #28\tTrain Loss: -9332966415.360\n",
            "Epoch #29\tTrain Loss: -10865912094.720\n",
            "Epoch #30\tTrain Loss: -12572737047.040\n",
            "Epoch #31\tTrain Loss: -14468426004.480\n",
            "Epoch #32\tTrain Loss: -16554151792.640\n",
            "Epoch #33\tTrain Loss: -18858895211.520\n",
            "Epoch #34\tTrain Loss: -21388551260.160\n",
            "Epoch #35\tTrain Loss: -24156516352.000\n",
            "Epoch #36\tTrain Loss: -27178606392.320\n",
            "Epoch #37\tTrain Loss: -30466670699.520\n",
            "Epoch #38\tTrain Loss: -34031310284.800\n",
            "Epoch #39\tTrain Loss: -37891269048.320\n",
            "Epoch #40\tTrain Loss: -42048407060.480\n",
            "Epoch #41\tTrain Loss: -46529875107.840\n",
            "Epoch #42\tTrain Loss: -51335814594.560\n",
            "Epoch #43\tTrain Loss: -56482236569.600\n",
            "Epoch #44\tTrain Loss: -61983275376.640\n",
            "Epoch #45\tTrain Loss: -67867350261.760\n",
            "Epoch #46\tTrain Loss: -74131793448.960\n",
            "Epoch #47\tTrain Loss: -80785009070.080\n",
            "Epoch #48\tTrain Loss: -87888209797.120\n",
            "Epoch #49\tTrain Loss: -95427912212.480\n",
            "Epoch #50\tTrain Loss: -103427557007.360\n",
            "Epoch #51\tTrain Loss: -111912894935.040\n",
            "Epoch #52\tTrain Loss: -120895503933.440\n",
            "Epoch #53\tTrain Loss: -130392871690.240\n",
            "Epoch #54\tTrain Loss: -140436142530.560\n",
            "Epoch #55\tTrain Loss: -151001611837.440\n",
            "Epoch #56\tTrain Loss: -162161733304.320\n",
            "Epoch #57\tTrain Loss: -173869509795.840\n",
            "Epoch #58\tTrain Loss: -186179979059.200\n",
            "Epoch #59\tTrain Loss: -199108542013.440\n",
            "Epoch #60\tTrain Loss: -212667840020.480\n",
            "Epoch #61\tTrain Loss: -226868486430.720\n",
            "Epoch #62\tTrain Loss: -241779000688.640\n",
            "Epoch #63\tTrain Loss: -257323879628.800\n",
            "Epoch #64\tTrain Loss: -273636910366.720\n",
            "Epoch #65\tTrain Loss: -290611357777.920\n",
            "Epoch #66\tTrain Loss: -308449189724.160\n",
            "Epoch #67\tTrain Loss: -327016868413.440\n",
            "Epoch #68\tTrain Loss: -346501635604.480\n",
            "Epoch #69\tTrain Loss: -366716886220.800\n",
            "Epoch #70\tTrain Loss: -387828250460.160\n",
            "Epoch #71\tTrain Loss: -409825045053.440\n",
            "Epoch #72\tTrain Loss: -432786603540.480\n",
            "Epoch #73\tTrain Loss: -456664942837.760\n",
            "Epoch #74\tTrain Loss: -481405203906.560\n",
            "Epoch #75\tTrain Loss: -507084263587.840\n",
            "Epoch #76\tTrain Loss: -533827934617.600\n",
            "Epoch #77\tTrain Loss: -561544396963.840\n",
            "Epoch #78\tTrain Loss: -590318375895.040\n",
            "Epoch #79\tTrain Loss: -620141672202.240\n",
            "Epoch #80\tTrain Loss: -651098134773.760\n",
            "Epoch #81\tTrain Loss: -683179742658.560\n",
            "Epoch #82\tTrain Loss: -716388892508.160\n",
            "Epoch #83\tTrain Loss: -750896486318.080\n",
            "Epoch #84\tTrain Loss: -786629884968.960\n",
            "Epoch #85\tTrain Loss: -823572624506.880\n",
            "Epoch #86\tTrain Loss: -861780873871.360\n",
            "Epoch #87\tTrain Loss: -901283875389.440\n",
            "Epoch #88\tTrain Loss: -942164149207.040\n",
            "Epoch #89\tTrain Loss: -984422301696.000\n",
            "Epoch #90\tTrain Loss: -1027984120217.600\n",
            "Epoch #91\tTrain Loss: -1072971929026.560\n",
            "Epoch #92\tTrain Loss: -1119266229452.800\n",
            "Epoch #93\tTrain Loss: -1167026941788.160\n",
            "Epoch #94\tTrain Loss: -1216474890240.000\n",
            "Epoch #95\tTrain Loss: -1267285518581.760\n",
            "Epoch #96\tTrain Loss: -1319606645555.200\n",
            "Epoch #97\tTrain Loss: -1373762167439.360\n",
            "Epoch #98\tTrain Loss: -1429539043737.600\n",
            "Epoch #99\tTrain Loss: -1486854472990.720\n",
            "Epoch #100\tTrain Loss: -1546126997585.920\n"
          ]
        }
      ]
    },
    {
      "cell_type": "code",
      "source": [
        "plt.plot(train_losses)\n",
        "plt.ylabel('Loss')\n",
        "plt.xlabel('Iteration (in every epoch)')\n",
        "plt.show()"
      ],
      "metadata": {
        "colab": {
          "base_uri": "https://localhost:8080/",
          "height": 290
        },
        "id": "KgylJ-yDZJOp",
        "outputId": "18218e4a-5a17-4a83-9236-e66d38ce13c8"
      },
      "execution_count": null,
      "outputs": [
        {
          "output_type": "display_data",
          "data": {
            "image/png": "[encoded data removed]",
            "text/plain": [
              "<Figure size 432x288 with 1 Axes>"
            ]
          },
          "metadata": {
            "needs_background": "light"
          }
        }
      ]
    },
    {
      "cell_type": "code",
      "source": [
        "def predict_sentiment(text):\n",
        "  test_vector = torch.LongTensor(dataset.vectorizer.transform([text]).toarray())\n",
        "  \n",
        "  output = model(test_vector)\n",
        "  \n",
        "  prediction = torch.sigmoid(output).item()\n",
        "  \n",
        "  if prediction>0.5:\n",
        "    return 1\n",
        "  else:\n",
        "    return -1"
      ],
      "metadata": {
        "id": "RyXgMZfKZZPf"
      },
      "execution_count": null,
      "outputs": []
    },
    {
      "cell_type": "code",
      "source": [
        "pred_labels = []\n",
        "\n",
        "sentences = list(df_test['Text'])\n",
        "labels = df_test['Sentiment']\n",
        "\n",
        "for sentence in sentences:\n",
        "  pred_labels.append(predict_sentiment(sentence))\n",
        "\n",
        "accuracy = accuracy_score(labels, pred_labels)\n",
        "print('Accuracy: %f' % accuracy)\n",
        "\n",
        "matrix = confusion_matrix(labels, pred_labels)\n",
        "print('Confusion Matrix: \\n', matrix)\n",
        "\n",
        "precision =  precision_score(labels, pred_labels)\n",
        "print('Precision: %f' % precision)\n",
        "\n",
        "recall = recall_score(labels, pred_labels)\n",
        "print('Recall: %f' % recall)\n",
        "\n",
        "f1_score = 2 * (precision * recall) / (precision + recall)\n",
        "print('f1 score: %f' % f1_score)"
      ],
      "metadata": {
        "colab": {
          "base_uri": "https://localhost:8080/"
        },
        "id": "_C1vaegnalvm",
        "outputId": "8ff41309-3724-49da-8eb2-aa0cfc4af8e9"
      },
      "execution_count": null,
      "outputs": [
        {
          "output_type": "stream",
          "name": "stdout",
          "text": [
            "Accuracy: 0.588608\n",
            "Confusion Matrix: \n",
            " [[426  31]\n",
            " [294  39]]\n",
            "Precision: 0.557143\n",
            "Recall: 0.117117\n",
            "f1 score: 0.193548\n"
          ]
        }
      ]
    },
    {
      "cell_type": "markdown",
      "source": [
        "# **TF-IDF and Neural Network**"
      ],
      "metadata": {
        "id": "XjyQ85sPcLk-"
      }
    },
    {
      "cell_type": "code",
      "source": [
        "class Sequences(Dataset):\n",
        "    def __init__(self, data):\n",
        "        self.vectorizer = TfidfVectorizer()\n",
        "        self.sequences = self.vectorizer.fit_transform(data.Text.tolist())\n",
        "        self.labels = data.Sentiment.tolist()\n",
        "        self.token2idx = self.vectorizer.vocabulary_\n",
        "        self.idx2token = {idx: token for token, idx in self.token2idx.items()}\n",
        "    \n",
        "    def __getitem__(self, i):\n",
        "        return self.sequences[i, :].toarray(), self.labels[i]\n",
        "    \n",
        "    def __len__(self):\n",
        "        return self.sequences.shape[0]\n",
        "\n",
        "\n",
        "dataset2 = Sequences(df_train)\n",
        "train_loader2 = DataLoader(dataset2, batch_size=50)"
      ],
      "metadata": {
        "id": "1-h-kNT8cIsP"
      },
      "execution_count": null,
      "outputs": []
    },
    {
      "cell_type": "code",
      "source": [
        "model2 = NNClassifier(len(dataset2.token2idx), 128, 64)\n",
        "model2"
      ],
      "metadata": {
        "id": "QJC2ApxCcIpo",
        "colab": {
          "base_uri": "https://localhost:8080/"
        },
        "outputId": "5f653962-6357-4202-bcdc-548ce1d87579"
      },
      "execution_count": null,
      "outputs": [
        {
          "output_type": "execute_result",
          "data": {
            "text/plain": [
              "NNClassifier(\n",
              "  (linear_1): Linear(in_features=7009, out_features=128, bias=True)\n",
              "  (linear_2): Linear(in_features=128, out_features=128, bias=True)\n",
              "  (linear_3): Linear(in_features=128, out_features=128, bias=True)\n",
              "  (linear_4): Linear(in_features=128, out_features=64, bias=True)\n",
              "  (linear_out): Linear(in_features=64, out_features=1, bias=True)\n",
              "  (relu): ReLU()\n",
              ")"
            ]
          },
          "metadata": {},
          "execution_count": 26
        }
      ]
    },
    {
      "cell_type": "code",
      "source": [
        "criterion2 = nn.BCEWithLogitsLoss()\n",
        "optimizer2 = optim.Adam(model2.parameters(), lr=0.001)"
      ],
      "metadata": {
        "id": "Id5HgAd1cImu"
      },
      "execution_count": null,
      "outputs": []
    },
    {
      "cell_type": "code",
      "source": [
        "train_losses2 = []\n",
        "\n",
        "for epoch in range(100):\n",
        "    losses = []\n",
        "    total = 0\n",
        "    for inputs, target in train_loader2:\n",
        "        model2.zero_grad()\n",
        "\n",
        "        output = model2(inputs)\n",
        "        loss = criterion2(output.squeeze(), target.float())\n",
        "        loss.backward()\n",
        "        optimizer2.step()\n",
        "        losses.append(loss.item())\n",
        "        total += 1\n",
        "    \n",
        "    epoch_loss = sum(losses) / total\n",
        "    train_losses2.append(epoch_loss)\n",
        "        \n",
        "    print(f'Epoch #{epoch + 1}\\tTrain Loss: {epoch_loss:.4f}')"
      ],
      "metadata": {
        "id": "ROkd2bzfcIkO",
        "colab": {
          "base_uri": "https://localhost:8080/"
        },
        "outputId": "9d215d71-6bdd-49c8-92e0-2521b2d3588a"
      },
      "execution_count": null,
      "outputs": [
        {
          "output_type": "stream",
          "name": "stdout",
          "text": [
            "Epoch #1\tTrain Loss: 0.5304\n",
            "Epoch #2\tTrain Loss: -84.6124\n",
            "Epoch #3\tTrain Loss: -3956.5350\n",
            "Epoch #4\tTrain Loss: -44027.8556\n",
            "Epoch #5\tTrain Loss: -237808.3972\n",
            "Epoch #6\tTrain Loss: -849038.1690\n",
            "Epoch #7\tTrain Loss: -2309901.5794\n",
            "Epoch #8\tTrain Loss: -5277669.0663\n",
            "Epoch #9\tTrain Loss: -10621583.7812\n",
            "Epoch #10\tTrain Loss: -19469195.8275\n",
            "Epoch #11\tTrain Loss: -33136625.4250\n",
            "Epoch #12\tTrain Loss: -53195134.5700\n",
            "Epoch #13\tTrain Loss: -81083414.9900\n",
            "Epoch #14\tTrain Loss: -118641858.5800\n",
            "Epoch #15\tTrain Loss: -168028809.4400\n",
            "Epoch #16\tTrain Loss: -231293257.8400\n",
            "Epoch #17\tTrain Loss: -311002160.4400\n",
            "Epoch #18\tTrain Loss: -410282400.5600\n",
            "Epoch #19\tTrain Loss: -532009177.5200\n",
            "Epoch #20\tTrain Loss: -679997491.5200\n",
            "Epoch #21\tTrain Loss: -856989108.4800\n",
            "Epoch #22\tTrain Loss: -1067301963.3600\n",
            "Epoch #23\tTrain Loss: -1313520920.9600\n",
            "Epoch #24\tTrain Loss: -1599774790.4000\n",
            "Epoch #25\tTrain Loss: -1929291348.1600\n",
            "Epoch #26\tTrain Loss: -2306790932.4800\n",
            "Epoch #27\tTrain Loss: -2734142003.8400\n",
            "Epoch #28\tTrain Loss: -3214797329.9200\n",
            "Epoch #29\tTrain Loss: -3751497029.1200\n",
            "Epoch #30\tTrain Loss: -4349842512.0000\n",
            "Epoch #31\tTrain Loss: -5012261260.8000\n",
            "Epoch #32\tTrain Loss: -5743013525.7600\n",
            "Epoch #33\tTrain Loss: -6545700723.2000\n",
            "Epoch #34\tTrain Loss: -7418998717.4400\n",
            "Epoch #35\tTrain Loss: -8380478149.1200\n",
            "Epoch #36\tTrain Loss: -9430141365.7600\n",
            "Epoch #37\tTrain Loss: -10569640985.6000\n",
            "Epoch #38\tTrain Loss: -11806373739.5200\n",
            "Epoch #39\tTrain Loss: -13143326507.5200\n",
            "Epoch #40\tTrain Loss: -14590534896.6400\n",
            "Epoch #41\tTrain Loss: -16156108856.3200\n",
            "Epoch #42\tTrain Loss: -17839804769.2800\n",
            "Epoch #43\tTrain Loss: -19644850677.7600\n",
            "Epoch #44\tTrain Loss: -21569826426.8800\n",
            "Epoch #45\tTrain Loss: -23635281408.0000\n",
            "Epoch #46\tTrain Loss: -25837490268.1600\n",
            "Epoch #47\tTrain Loss: -28183436876.8000\n",
            "Epoch #48\tTrain Loss: -30678767068.1600\n",
            "Epoch #49\tTrain Loss: -33315103237.1200\n",
            "Epoch #50\tTrain Loss: -36109454131.2000\n",
            "Epoch #51\tTrain Loss: -39077691975.6800\n",
            "Epoch #52\tTrain Loss: -42211758725.1200\n",
            "Epoch #53\tTrain Loss: -45531077898.2400\n",
            "Epoch #54\tTrain Loss: -49014552227.8400\n",
            "Epoch #55\tTrain Loss: -52693436078.0800\n",
            "Epoch #56\tTrain Loss: -56588771133.4400\n",
            "Epoch #57\tTrain Loss: -60701387304.9600\n",
            "Epoch #58\tTrain Loss: -65012412395.5200\n",
            "Epoch #59\tTrain Loss: -69534750935.0400\n",
            "Epoch #60\tTrain Loss: -74275516211.2000\n",
            "Epoch #61\tTrain Loss: -79273852334.0800\n",
            "Epoch #62\tTrain Loss: -84521654947.8400\n",
            "Epoch #63\tTrain Loss: -90019446640.6400\n",
            "Epoch #64\tTrain Loss: -95746623528.9600\n",
            "Epoch #65\tTrain Loss: -101743514849.2800\n",
            "Epoch #66\tTrain Loss: -107997808332.8000\n",
            "Epoch #67\tTrain Loss: -114564845342.7200\n",
            "Epoch #68\tTrain Loss: -121404175831.0400\n",
            "Epoch #69\tTrain Loss: -128533909012.4800\n",
            "Epoch #70\tTrain Loss: -135952298885.1200\n",
            "Epoch #71\tTrain Loss: -143664277544.9600\n",
            "Epoch #72\tTrain Loss: -151746309283.8400\n",
            "Epoch #73\tTrain Loss: -160157380157.4400\n",
            "Epoch #74\tTrain Loss: -168899221504.0000\n",
            "Epoch #75\tTrain Loss: -177956430561.2800\n",
            "Epoch #76\tTrain Loss: -187346258575.3600\n",
            "Epoch #77\tTrain Loss: -197149847592.9600\n",
            "Epoch #78\tTrain Loss: -207376355532.8000\n",
            "Epoch #79\tTrain Loss: -217946519265.2800\n",
            "Epoch #80\tTrain Loss: -228883082158.0800\n",
            "Epoch #81\tTrain Loss: -240239750881.2800\n",
            "Epoch #82\tTrain Loss: -252051059015.6800\n",
            "Epoch #83\tTrain Loss: -264289991843.8400\n",
            "Epoch #84\tTrain Loss: -276967567032.3200\n",
            "Epoch #85\tTrain Loss: -290108010823.6800\n",
            "Epoch #86\tTrain Loss: -303606460252.1600\n",
            "Epoch #87\tTrain Loss: -317585661296.6400\n",
            "Epoch #88\tTrain Loss: -332113148805.1200\n",
            "Epoch #89\tTrain Loss: -347091226951.6800\n",
            "Epoch #90\tTrain Loss: -362606435860.4800\n",
            "Epoch #91\tTrain Loss: -378576071720.9600\n",
            "Epoch #92\tTrain Loss: -395015552860.1600\n",
            "Epoch #93\tTrain Loss: -412036656496.6400\n",
            "Epoch #94\tTrain Loss: -429645689896.9600\n",
            "Epoch #95\tTrain Loss: -447799912038.4000\n",
            "Epoch #96\tTrain Loss: -466491097006.0800\n",
            "Epoch #97\tTrain Loss: -485710632140.8000\n",
            "Epoch #98\tTrain Loss: -505501656104.9600\n",
            "Epoch #99\tTrain Loss: -526034580275.2000\n",
            "Epoch #100\tTrain Loss: -547211281530.8800\n"
          ]
        }
      ]
    },
    {
      "cell_type": "code",
      "source": [
        "plt.plot(train_losses2)\n",
        "plt.ylabel('Loss')\n",
        "plt.xlabel('Iteration (in every epoch)')\n",
        "plt.show()"
      ],
      "metadata": {
        "id": "hOdMy5PncIhf",
        "colab": {
          "base_uri": "https://localhost:8080/",
          "height": 290
        },
        "outputId": "31021c03-d51c-4163-e6d7-b5b85eade3bb"
      },
      "execution_count": null,
      "outputs": [
        {
          "output_type": "display_data",
          "data": {
            "image/png": "[encoded data removed]",
            "text/plain": [
              "<Figure size 432x288 with 1 Axes>"
            ]
          },
          "metadata": {
            "needs_background": "light"
          }
        }
      ]
    },
    {
      "cell_type": "code",
      "source": [
        "def predict_sentiment(text):\n",
        "  test_vector = torch.LongTensor(dataset2.vectorizer.transform([text]).toarray())\n",
        "  \n",
        "  output = model2(test_vector)\n",
        "  \n",
        "  prediction = torch.sigmoid(output).item()\n",
        "  \n",
        "  if prediction>0.5:\n",
        "    return 1\n",
        "  else:\n",
        "    return -1"
      ],
      "metadata": {
        "id": "d_QZ1ZkZg2HH"
      },
      "execution_count": null,
      "outputs": []
    },
    {
      "cell_type": "code",
      "source": [
        "pred_labels2 = []\n",
        "\n",
        "sentences = list(df_test['Text'])\n",
        "labels = df_test['Sentiment']\n",
        "\n",
        "for sentence in sentences:\n",
        "  pred_labels2.append(predict_sentiment(sentence))\n",
        "\n",
        "accuracy2 = accuracy_score(labels, pred_labels2)\n",
        "print('Accuracy: %f' % accuracy2)\n",
        "\n",
        "matrix2 = confusion_matrix(labels, pred_labels2)\n",
        "print(matrix2)\n",
        "\n",
        "precision2 =  precision_score(labels, pred_labels2)\n",
        "print('Precision: %f' % precision2)\n",
        "\n",
        "recall2 = recall_score(labels, pred_labels2)\n",
        "print('Recall: %f' % recall2)\n",
        "\n",
        "f1_score2 = 2 * (precision2 * recall2) / (precision2 + recall2)\n",
        "print('f1 score: %f' % f1_score2)"
      ],
      "metadata": {
        "colab": {
          "base_uri": "https://localhost:8080/"
        },
        "id": "H7kXZI49g16f",
        "outputId": "a29bb996-79ce-424f-9499-0bdc4876b23e"
      },
      "execution_count": null,
      "outputs": [
        {
          "output_type": "stream",
          "name": "stdout",
          "text": [
            "Accuracy: 0.578481\n",
            "[[457   0]\n",
            " [333   0]]\n",
            "Precision: 0.000000\n",
            "Recall: 0.000000\n",
            "f1 score: nan\n"
          ]
        },
        {
          "output_type": "stream",
          "name": "stderr",
          "text": [
            "/usr/local/lib/python3.7/dist-packages/sklearn/metrics/_classification.py:1318: UndefinedMetricWarning: Precision is ill-defined and being set to 0.0 due to no predicted samples. Use `zero_division` parameter to control this behavior.\n",
            "  _warn_prf(average, modifier, msg_start, len(result))\n",
            "/usr/local/lib/python3.7/dist-packages/ipykernel_launcher.py:21: RuntimeWarning: invalid value encountered in double_scalars\n"
          ]
        }
      ]
    },
    {
      "cell_type": "markdown",
      "source": [
        "# **One-Hot Embedding and CNN**"
      ],
      "metadata": {
        "id": "0ICyVSz5hghf"
      }
    },
    {
      "cell_type": "code",
      "source": [
        "#pd.get_dummies(df).head()\n",
        "#dataset = pd.get_dummies(df_train)\n",
        "#train_loader = DataLoader(dataset, batch_size=900)\n",
        "\n",
        "class Sequences3(Dataset):\n",
        "    def __init__(self, data):\n",
        "        self.vectorizer = CountVectorizer(binary=True)\n",
        "        self.sequences = self.vectorizer.fit_transform(data.Text.tolist())\n",
        "        self.labels = data.Sentiment.tolist()\n",
        "        self.token2idx = self.vectorizer.vocabulary_\n",
        "        self.idx2token = {idx: token for token, idx in self.token2idx.items()}\n",
        "    \n",
        "    def __getitem__(self, i):\n",
        "        return self.sequences[i, :].toarray(), self.labels[i]\n",
        "    \n",
        "    def __len__(self):\n",
        "        return self.sequences.shape[0]\n",
        "\n",
        "\n",
        "dataset3 = Sequences3(df_train)\n",
        "train_loader3 = DataLoader(dataset3, batch_size=50)"
      ],
      "metadata": {
        "id": "O6yQbeg1tNnF"
      },
      "execution_count": null,
      "outputs": []
    },
    {
      "cell_type": "code",
      "source": [
        "model3 = CNNClassifier(len(dataset3.token2idx))\n",
        "model3"
      ],
      "metadata": {
        "id": "fgU9AG_f-zUg",
        "colab": {
          "base_uri": "https://localhost:8080/"
        },
        "outputId": "bb9e4852-327f-4d63-8f5b-6c67655b6d2d"
      },
      "execution_count": null,
      "outputs": [
        {
          "output_type": "execute_result",
          "data": {
            "text/plain": [
              "CNNClassifier(\n",
              "  (cnn_layer_1): Conv2d(1, 256, kernel_size=(3, 3), stride=(1, 1))\n",
              "  (cnn_layer_2): Conv2d(256, 32, kernel_size=(3, 3), stride=(1, 1))\n",
              "  (flatten): Flatten(start_dim=1, end_dim=-1)\n",
              "  (maxpool): MaxPool2d(kernel_size=2, stride=2, padding=0, dilation=1, ceil_mode=False)\n",
              "  (linear_layer_1): Linear(in_features=700928, out_features=512, bias=True)\n",
              "  (linear_layer_2): Linear(in_features=512, out_features=128, bias=True)\n",
              "  (linear_layer_3): Linear(in_features=128, out_features=1, bias=True)\n",
              "  (relu): ReLU()\n",
              "  (sigmoid): Sigmoid()\n",
              "  (dropout): Dropout(p=0.2, inplace=False)\n",
              ")"
            ]
          },
          "metadata": {},
          "execution_count": 73
        }
      ]
    },
    {
      "cell_type": "code",
      "source": [
        "criterion3 = nn.BCEWithLogitsLoss()\n",
        "optimizer3 = optim.Adam(model3.parameters(), lr=0.001)"
      ],
      "metadata": {
        "id": "XvfEZNhvCcA1"
      },
      "execution_count": null,
      "outputs": []
    },
    {
      "cell_type": "code",
      "source": [
        "inputs.shape"
      ],
      "metadata": {
        "colab": {
          "base_uri": "https://localhost:8080/"
        },
        "id": "XpvtW6YfFPEJ",
        "outputId": "bbd7e968-e26e-4987-b342-8b5b7a7e1324"
      },
      "execution_count": null,
      "outputs": [
        {
          "output_type": "execute_result",
          "data": {
            "text/plain": [
              "torch.Size([1, 1, 7009, 50])"
            ]
          },
          "metadata": {},
          "execution_count": 75
        }
      ]
    },
    {
      "cell_type": "code",
      "source": [
        "train_losses3 = []\n",
        "\n",
        "for epoch in range(100):\n",
        "    losses = []\n",
        "    total = 0\n",
        "    for inputs, target in train_loader3:\n",
        "        inputs = inputs.reshape(1,1,7009,50)\n",
        "        model3.zero_grad()\n",
        "        #inputs = inputs.type(torch.LongTensor)\n",
        "        output = model3(inputs)\n",
        "        loss = criterion3(output.squeeze(), target.float())\n",
        "        loss.backward()\n",
        "        optimizer3.step()\n",
        "        losses.append(loss.item())\n",
        "        total += 1\n",
        "    \n",
        "    epoch_loss = sum(losses) / total\n",
        "    train_losses3.append(epoch_loss)\n",
        "        \n",
        "    print(f'Epoch #{epoch + 1}\\tTrain Loss: {epoch_loss:.4f}')"
      ],
      "metadata": {
        "id": "32EGmdxTDg4x"
      },
      "execution_count": null,
      "outputs": []
    }
  ]
}